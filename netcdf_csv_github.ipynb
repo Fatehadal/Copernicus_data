{
 "cells": [
  {
   "cell_type": "code",
   "execution_count": null,
   "metadata": {},
   "outputs": [],
   "source": [
    "!pip install netcdf4"
   ]
  },
  {
   "cell_type": "markdown",
   "metadata": {},
   "source": [
    "########### Importing copernicus environmental data (sea surface temperature) #################"
   ]
  },
  {
   "cell_type": "code",
   "execution_count": 1,
   "metadata": {
    "scrolled": true
   },
   "outputs": [],
   "source": [
    "import netCDF4\n",
    "import pandas as pd\n",
    "import datetime\n",
    "import numpy as np\n",
    "from metpy.units import units\n",
    "from pathlib import Path\n",
    "from datetime import datetime, timedelta"
   ]
  },
  {
   "cell_type": "code",
   "execution_count": 2,
   "metadata": {},
   "outputs": [],
   "source": [
    "data_dir = Path(\"./\");\n",
    "data_file = data_dir / \"nc_sst_git.csv\";\n",
    "ncsst = netCDF4.Dataset('FKB_NC_file/SST_MED_SST_L3S_NRT_OBSERVATIONS_010_012_a_1638801653217.nc', mode='r')"
   ]
  },
  {
   "cell_type": "code",
   "execution_count": null,
   "metadata": {},
   "outputs": [],
   "source": [
    "time_var = ncsst.variables['time'][:]\n",
    "len_time_var = len(time_var)\n",
    "lat = ncsst.variables['lat'][:]\n",
    "len_lat = len(lat)\n",
    "lon = ncsst.variables['lon'][:]\n",
    "len_lon = len(lon)\n",
    "\n",
    "\n",
    "writer = open(data_file, 'w');\n",
    "for i in range(0,len_time_var):\n",
    "    vl_time_var = time_var[i]\n",
    "    for j in range(0,len_lat):\n",
    "        vl_lat = lat[j]\n",
    "        for k in range(0,len_lon):\n",
    "            vl_lon = lon[k]\n",
    "            temp = ncsst.variables['adjusted_sea_surface_temperature'][i,j,k]\n",
    "            writer.write(str(vl_time_var)+','+ str(vl_lat)+','+ str(vl_lon)+',' + str(temp)+'\\n')"
   ]
  },
  {
   "cell_type": "code",
   "execution_count": null,
   "metadata": {},
   "outputs": [],
   "source": [
    "nc_file_sst = pd.read_csv(\"nc_sst_git.csv\", header = None)\n",
    "nc_file_sst.columns = [\"Time\", \"Lat\", \"Lon\", \"SST\"]\n",
    "\n",
    "t0 = datetime(1981, 1, 1)\n",
    "nc_file_sst['date_time'] = nc_file_sst['Time'].apply(lambda x:t0 + timedelta(seconds=x))"
   ]
  },
  {
   "cell_type": "code",
   "execution_count": null,
   "metadata": {},
   "outputs": [],
   "source": [
    "nc_file_sst = nc_file_sst.query('SST!=\"--\"')\n",
    "nc_file_sst['year'] = pd.DatetimeIndex(nc_file_sst['date_time']).year\n",
    "nc_file_sst['month'] = pd.DatetimeIndex(nc_file_sst['date_time']).month\n",
    "print (nc_file_sst.head())"
   ]
  }
 ],
 "metadata": {
  "kernelspec": {
   "display_name": "Python 3",
   "language": "python",
   "name": "python3"
  },
  "language_info": {
   "codemirror_mode": {
    "name": "ipython",
    "version": 3
   },
   "file_extension": ".py",
   "mimetype": "text/x-python",
   "name": "python",
   "nbconvert_exporter": "python",
   "pygments_lexer": "ipython3",
   "version": "3.7.1"
  }
 },
 "nbformat": 4,
 "nbformat_minor": 2
}
